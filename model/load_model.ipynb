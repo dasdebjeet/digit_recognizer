{
 "cells": [
  {
   "cell_type": "code",
   "execution_count": 1,
   "id": "355ba348-8f1d-46c0-92d6-369889ecd335",
   "metadata": {},
   "outputs": [],
   "source": [
    "from keras.models import load_model\n",
    "\n",
    "import numpy as np\n",
    "import matplotlib.pyplot as plt"
   ]
  },
  {
   "cell_type": "code",
   "execution_count": 2,
   "id": "fb2fbcd2-3f79-46fd-ad2a-25775e1eb41b",
   "metadata": {},
   "outputs": [],
   "source": [
    "loaded_model = load_model(\"saved_model.h5\")"
   ]
  },
  {
   "cell_type": "markdown",
   "id": "af40b993-ebaf-438b-9f91-68c98e6687fe",
   "metadata": {},
   "source": [
    "<br>\n",
    "\n",
    "## Preprocessing of image"
   ]
  },
  {
   "cell_type": "code",
   "execution_count": 3,
   "id": "951a4353-505d-49c7-9eb1-9f20d9aba11d",
   "metadata": {},
   "outputs": [],
   "source": [
    "import cv2\n",
    "import base64"
   ]
  },
  {
   "cell_type": "code",
   "execution_count": 4,
   "id": "c0e9bf90-015c-43ab-8238-b093d85c798e",
   "metadata": {},
   "outputs": [],
   "source": [
    "# load the  base64 img from file\n",
    "\n",
    "def load_base64_img():\n",
    "    with open('img.txt') as f:\n",
    "        return f.read()"
   ]
  },
  {
   "cell_type": "code",
   "execution_count": 5,
   "id": "342bdb6f-60d4-4b2c-bf15-e02715ccff9a",
   "metadata": {},
   "outputs": [],
   "source": [
    "# convert the base64 image/ image path --> transparent image to white background ---> to array using cv2\n",
    "\n",
    "def get_cv2_image_from_base64_string(b64str, img_path):\n",
    "    if img_path:\n",
    "        img = cv2.imread(img_path, cv2.IMREAD_UNCHANGED)\n",
    "    else:\n",
    "        encoded_data = b64str.split(',')[1]\n",
    "        nparr = np.frombuffer(base64.b64decode(encoded_data), np.uint8)\n",
    "        img = cv2.imdecode(nparr, cv2.IMREAD_UNCHANGED) # load the image with alpha channel\n",
    "        \n",
    "    \n",
    "    ## transparent to white bg \n",
    "    alpha_channel = img[: ,: , 3]\n",
    "    _, mask = cv2.threshold(alpha_channel, 254, 255, cv2.THRESH_BINARY) # binarize mask\n",
    "    color = img[: ,: ,: 3]\n",
    "    new_img = cv2.bitwise_not(cv2.bitwise_not(color, mask = mask))\n",
    "    return new_img"
   ]
  },
  {
   "cell_type": "code",
   "execution_count": 6,
   "id": "5ef3f971-8d87-4ec8-af80-59309e266be3",
   "metadata": {},
   "outputs": [],
   "source": [
    "# resizing the image into 28x28 pixels\n",
    "\n",
    "def get_img_reshape_by_cv2(img_data):\n",
    "    image = img_data\n",
    "    grey = cv2.cvtColor(image.copy(), cv2.COLOR_BGR2GRAY) # convert to gray\n",
    "    ret, thresh = cv2.threshold(grey.copy(), 75, 255, cv2.THRESH_BINARY_INV)\n",
    "    contours, _ = cv2.findContours(thresh.copy(), cv2.RETR_EXTERNAL, cv2.CHAIN_APPROX_NONE)\n",
    "\n",
    "    preprocessed_digits = []\n",
    "    for c in contours:\n",
    "        x,y,w,h = cv2.boundingRect(c)\n",
    "\n",
    "        # Creating a rectangle around the digit in the original image (for displaying the digits fetched via contours)\n",
    "        roi = cv2.rectangle(image, (x,y), (x+w, y+h), color=(0, 255, 0), thickness=1)\n",
    "\n",
    "        # Cropping out the digit from the image corresponding to the current contours in the for loop\n",
    "        digit = thresh[y:y+h, x:x+w]\n",
    "\n",
    "        # Resizing that digit to (18, 18)\n",
    "        resized_digit = cv2.resize(digit, (500, 500))\n",
    "        # resized_digit = cv2.resize(resized_digit, (500,500))\n",
    "        resized_digit = cv2.resize(resized_digit, (400,400))\n",
    "        resized_digit = cv2.resize(resized_digit, (300,300))\n",
    "        resized_digit = cv2.resize(resized_digit, (200,200))\n",
    "        resized_digit = cv2.resize(resized_digit, (100,100))\n",
    "        \n",
    "        resized_digit = cv2.resize(resized_digit, (50,50))\n",
    "        resized_digit = cv2.resize(resized_digit, (40,40))\n",
    "        resized_digit = cv2.resize(resized_digit, (25,25))\n",
    "        resized_digit = cv2.resize(resized_digit, (18,18)) ##### <------\n",
    "\n",
    "        # Padding the digit with 5 pixels of black color (zeros) in each side to finally produce the image of (28, 28)\n",
    "        padded_digit = np.pad(resized_digit, ((5,5),(5,5)), \"constant\", constant_values=0)\n",
    "\n",
    "        # plt.imshow(padded_digit)\n",
    "        \n",
    "        \n",
    "        # Adding the preprocessed digit to the list of preprocessed digits\n",
    "        preprocessed_digits.append(padded_digit)\n",
    "\n",
    "    # plt.imshow(padded_digit, cmap=\"gray\")\n",
    "    # plt.show()\n",
    "    \n",
    "    # print(preprocessed_digits)\n",
    "    inp = np.array(preprocessed_digits)\n",
    "    return inp"
   ]
  },
  {
   "cell_type": "markdown",
   "id": "0f967c88-76be-4aee-908a-9017f16ca365",
   "metadata": {},
   "source": [
    "<br>\n",
    "\n",
    "## Predict "
   ]
  },
  {
   "cell_type": "code",
   "execution_count": 7,
   "id": "6d89bb99-ec1e-44b7-951f-ade48767a90f",
   "metadata": {},
   "outputs": [],
   "source": [
    "n_img = get_cv2_image_from_base64_string(load_base64_img(), None)"
   ]
  },
  {
   "cell_type": "code",
   "execution_count": 8,
   "id": "d9e01390-c548-4fd8-a7b7-c577a04c8b4d",
   "metadata": {},
   "outputs": [
    {
     "data": {
      "text/plain": [
       "<matplotlib.image.AxesImage at 0x17ec5fc3700>"
      ]
     },
     "execution_count": 8,
     "metadata": {},
     "output_type": "execute_result"
    },
    {
     "data": {
      "image/png": "[encoded data removed]",
      "text/plain": [
       "<Figure size 432x288 with 1 Axes>"
      ]
     },
     "metadata": {
      "needs_background": "light"
     },
     "output_type": "display_data"
    }
   ],
   "source": [
    "plt.imshow(n_img)"
   ]
  },
  {
   "cell_type": "code",
   "execution_count": 9,
   "id": "5efa4b0f-b5d4-43ee-b2e2-d51284388e4e",
   "metadata": {},
   "outputs": [],
   "source": [
    "crop_img = get_img_reshape_by_cv2(n_img)"
   ]
  },
  {
   "cell_type": "code",
   "execution_count": 10,
   "id": "a08e77fa-8dcb-4b9c-b9db-6eaa8ec1eeb5",
   "metadata": {},
   "outputs": [
    {
     "data": {
      "text/plain": [
       "<matplotlib.image.AxesImage at 0x17ec60aee90>"
      ]
     },
     "execution_count": 10,
     "metadata": {},
     "output_type": "execute_result"
    },
    {
     "data": {
      "image/png": "[encoded data removed]",
      "text/plain": [
       "<Figure size 432x288 with 1 Axes>"
      ]
     },
     "metadata": {
      "needs_background": "light"
     },
     "output_type": "display_data"
    }
   ],
   "source": [
    "plt.gray()\n",
    "plt.imshow(crop_img[0])"
   ]
  },
  {
   "cell_type": "code",
   "execution_count": 11,
   "id": "4fa41af8-ff3d-4310-b996-f3b629c070ee",
   "metadata": {},
   "outputs": [
    {
     "name": "stdout",
     "output_type": "stream",
     "text": [
      "1/1 [==============================] - 0s 158ms/step\n",
      "1/1 [==============================] - 0s 15ms/step\n",
      "1/1 [==============================] - 0s 15ms/step\n",
      "1/1 [==============================] - 0s 15ms/step\n"
     ]
    },
    {
     "data": {
      "text/plain": [
       "[0, 1, 2, 3]"
      ]
     },
     "execution_count": 11,
     "metadata": {},
     "output_type": "execute_result"
    }
   ],
   "source": [
    "num_pred = []\n",
    "\n",
    "# pred = loaded_model.predict(crop_img)\n",
    "for i in range(len(crop_img)):\n",
    "    \n",
    "    if len(crop_img) > 1:\n",
    "        pred = loaded_model.predict(crop_img[i].reshape(1,28,28))\n",
    "    else:\n",
    "        pred = loaded_model.predict(crop_img)\n",
    "        \n",
    "    num_pred.append(np.argmax(pred))\n",
    "num_pred"
   ]
  },
  {
   "cell_type": "code",
   "execution_count": 12,
   "id": "7d7e1b03-5328-48f2-9e7f-96d9d474839b",
   "metadata": {},
   "outputs": [
    {
     "data": {
      "text/plain": [
       "[0, 1, 2, 3]"
      ]
     },
     "execution_count": 12,
     "metadata": {},
     "output_type": "execute_result"
    }
   ],
   "source": [
    "num_pred"
   ]
  },
  {
   "cell_type": "code",
   "execution_count": null,
   "id": "e40a8b82-c7e3-4d7f-a3d5-ccadb220c6c4",
   "metadata": {},
   "outputs": [],
   "source": []
  }
 ],
 "metadata": {
  "kernelspec": {
   "display_name": "Python 3 (ipykernel)",
   "language": "python",
   "name": "python3"
  },
  "language_info": {
   "codemirror_mode": {
    "name": "ipython",
    "version": 3
   },
   "file_extension": ".py",
   "mimetype": "text/x-python",
   "name": "python",
   "nbconvert_exporter": "python",
   "pygments_lexer": "ipython3",
   "version": "3.10.4"
  },
  "widgets": {
   "application/vnd.jupyter.widget-state+json": {
    "state": {},
    "version_major": 2,
    "version_minor": 0
   }
  }
 },
 "nbformat": 4,
 "nbformat_minor": 5
}

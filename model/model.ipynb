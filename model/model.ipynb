{
 "cells": [
  {
   "cell_type": "code",
   "execution_count": 1,
   "id": "c370820d-ed7e-494a-bfdc-06c3266ef940",
   "metadata": {},
   "outputs": [],
   "source": [
    "import tensorflow as tf\n",
    "from tensorflow import keras\n",
    "\n",
    "import numpy as np\n",
    "import matplotlib.pyplot as plt"
   ]
  },
  {
   "cell_type": "markdown",
   "id": "027c68b1-cc93-4d52-bd24-b9875cfed1a2",
   "metadata": {},
   "source": [
    "<br>\n",
    "\n",
    "## Preprocessing of image"
   ]
  },
  {
   "cell_type": "code",
   "execution_count": 2,
   "id": "01e4d007-427b-4bbe-abe8-437d9cba5469",
   "metadata": {},
   "outputs": [],
   "source": [
    "import cv2\n",
    "import base64"
   ]
  },
  {
   "cell_type": "code",
   "execution_count": 3,
   "id": "aaedf56f-1510-4db5-b59c-5b0f69bfb9c3",
   "metadata": {},
   "outputs": [],
   "source": [
    "# load the  base64 img from file\n",
    "\n",
    "def load_base64_img():\n",
    "    with open('img.txt') as f:\n",
    "        return f.read()"
   ]
  },
  {
   "cell_type": "code",
   "execution_count": 4,
   "id": "a9c6b4ed-e265-455f-b4a5-1ffd0e73cf1d",
   "metadata": {},
   "outputs": [],
   "source": [
    "# convert the base64 image/ image path --> transparent image to white background ---> to array using cv2\n",
    "\n",
    "def get_cv2_image_from_base64_string(b64str, img_path):\n",
    "    if img_path:\n",
    "        img = cv2.imread(img_path, cv2.IMREAD_UNCHANGED)\n",
    "    else:\n",
    "        encoded_data = b64str.split(',')[1]\n",
    "        nparr = np.frombuffer(base64.b64decode(encoded_data), np.uint8)\n",
    "        img = cv2.imdecode(nparr, cv2.IMREAD_UNCHANGED) # load the image with alpha channel\n",
    "        \n",
    "    \n",
    "    ## transparent to white bg \n",
    "    alpha_channel = img[: ,: , 3]\n",
    "    _, mask = cv2.threshold(alpha_channel, 254, 255, cv2.THRESH_BINARY) # binarize mask\n",
    "    color = img[: ,: ,: 3]\n",
    "    new_img = cv2.bitwise_not(cv2.bitwise_not(color, mask = mask))\n",
    "    return new_img"
   ]
  },
  {
   "cell_type": "code",
   "execution_count": 5,
   "id": "ea681352-e7b4-4725-8af7-7066a3df9f8c",
   "metadata": {},
   "outputs": [],
   "source": [
    "# resizing the image into 28x28 pixels\n",
    "\n",
    "def get_img_reshape_by_cv2(img_data):\n",
    "    image = img_data\n",
    "    grey = cv2.cvtColor(image.copy(), cv2.COLOR_BGR2GRAY) # convert to gray\n",
    "    ret, thresh = cv2.threshold(grey.copy(), 75, 255, cv2.THRESH_BINARY_INV)\n",
    "    contours, _ = cv2.findContours(thresh.copy(), cv2.RETR_EXTERNAL, cv2.CHAIN_APPROX_NONE)\n",
    "\n",
    "    preprocessed_digits = []\n",
    "    for c in contours:\n",
    "        x,y,w,h = cv2.boundingRect(c)\n",
    "\n",
    "        # Creating a rectangle around the digit in the original image (for displaying the digits fetched via contours)\n",
    "        roi = cv2.rectangle(image, (x,y), (x+w, y+h), color=(0, 255, 0), thickness=1)\n",
    "\n",
    "        # Cropping out the digit from the image corresponding to the current contours in the for loop\n",
    "        digit = thresh[y:y+h, x:x+w]\n",
    "\n",
    "        # Resizing that digit to (18, 18)\n",
    "        resized_digit = cv2.resize(digit, (500, 500))\n",
    "        # resized_digit = cv2.resize(resized_digit, (500,500))\n",
    "        resized_digit = cv2.resize(resized_digit, (400,400))\n",
    "        resized_digit = cv2.resize(resized_digit, (300,300))\n",
    "        resized_digit = cv2.resize(resized_digit, (200,200))\n",
    "        resized_digit = cv2.resize(resized_digit, (100,100))\n",
    "        \n",
    "        resized_digit = cv2.resize(resized_digit, (50,50))\n",
    "        resized_digit = cv2.resize(resized_digit, (40,40))\n",
    "        resized_digit = cv2.resize(resized_digit, (25,25))\n",
    "        resized_digit = cv2.resize(resized_digit, (18,18)) ##### <------\n",
    "\n",
    "        # Padding the digit with 5 pixels of black color (zeros) in each side to finally produce the image of (28, 28)\n",
    "        padded_digit = np.pad(resized_digit, ((5,5),(5,5)), \"constant\", constant_values=0)\n",
    "\n",
    "        # plt.imshow(padded_digit)\n",
    "        \n",
    "        \n",
    "        # Adding the preprocessed digit to the list of preprocessed digits\n",
    "        preprocessed_digits.append(padded_digit)\n",
    "\n",
    "    # plt.imshow(padded_digit, cmap=\"gray\")\n",
    "    # plt.show()\n",
    "    \n",
    "    # print(preprocessed_digits)\n",
    "    inp = np.array(preprocessed_digits)\n",
    "    return inp"
   ]
  },
  {
   "cell_type": "markdown",
   "id": "d633a2f0-31ae-4604-8fab-5a3fc1da2bae",
   "metadata": {},
   "source": [
    "<br>\n",
    "\n",
    "## Preprocessing of Dataset"
   ]
  },
  {
   "cell_type": "code",
   "execution_count": 6,
   "id": "b7314a6b-a427-455d-b088-d4cb7691748d",
   "metadata": {},
   "outputs": [],
   "source": [
    "# define the path of dataset and cropped img\n",
    "\n",
    "path_to_data = \"./dataset/\"\n",
    "path_to_cropped = \"./dataset/cropped/\""
   ]
  },
  {
   "cell_type": "code",
   "execution_count": 7,
   "id": "2a8d6988-0873-4bef-8f04-452f82fde51d",
   "metadata": {},
   "outputs": [],
   "source": [
    "import shutil, os\n",
    "\n",
    "if os.path.exists(path_to_cropped):\n",
    "    shutil.rmtree(path_to_cropped)"
   ]
  },
  {
   "cell_type": "code",
   "execution_count": 8,
   "id": "55609c5b-ea19-49d8-abd9-eeff41ee79ab",
   "metadata": {},
   "outputs": [
    {
     "data": {
      "text/plain": [
       "['./dataset/0',\n",
       " './dataset/1',\n",
       " './dataset/2',\n",
       " './dataset/3',\n",
       " './dataset/4',\n",
       " './dataset/5',\n",
       " './dataset/6',\n",
       " './dataset/7',\n",
       " './dataset/8',\n",
       " './dataset/9']"
      ]
     },
     "execution_count": 8,
     "metadata": {},
     "output_type": "execute_result"
    }
   ],
   "source": [
    "# get all the digits image dir from the dataset into the list\n",
    "\n",
    "import os\n",
    "img_dirs = []\n",
    "\n",
    "for entry in os.scandir(path_to_data):\n",
    "    if entry.is_dir():\n",
    "        img_dirs.append(entry.path)\n",
    "\n",
    "img_dirs"
   ]
  },
  {
   "cell_type": "code",
   "execution_count": 9,
   "id": "da984bea-e4cd-415d-a89a-345b6168199e",
   "metadata": {},
   "outputs": [],
   "source": [
    "# check whether the cropped img folder is present or not\n",
    "\n",
    "if os.path.exists(path_to_cropped):\n",
    "    shutil.rmtree(path_to_cropped)\n",
    "os.mkdir(path_to_cropped)"
   ]
  },
  {
   "cell_type": "code",
   "execution_count": 10,
   "id": "2cea586a-7ce2-4481-933f-2394ac557e67",
   "metadata": {},
   "outputs": [
    {
     "name": "stdout",
     "output_type": "stream",
     "text": [
      "Generating cropped digit_img folder:  ./dataset/cropped/0\n",
      "Generating cropped digit_img folder:  ./dataset/cropped/1\n",
      "Generating cropped digit_img folder:  ./dataset/cropped/2\n",
      "Generating cropped digit_img folder:  ./dataset/cropped/3\n",
      "Generating cropped digit_img folder:  ./dataset/cropped/4\n",
      "Generating cropped digit_img folder:  ./dataset/cropped/5\n",
      "Generating cropped digit_img folder:  ./dataset/cropped/6\n",
      "Generating cropped digit_img folder:  ./dataset/cropped/7\n",
      "Generating cropped digit_img folder:  ./dataset/cropped/8\n",
      "Generating cropped digit_img folder:  ./dataset/cropped/9\n",
      "\n",
      "Succesfully Completed! 😊\n"
     ]
    }
   ],
   "source": [
    "# cropping the dataset digit images\n",
    "\n",
    "crop_img_dirs = []\n",
    "digit_dict = {}\n",
    "\n",
    "for img_dir in img_dirs:\n",
    "    count = 1    \n",
    "    digit = (img_dir.split('/')[-1])\n",
    "    digit_dict[digit]=[]\n",
    "    \n",
    "    for entry in os.scandir(img_dir):\n",
    "        url = entry.path\n",
    "        \n",
    "        img_b64_transp = get_cv2_image_from_base64_string(None, url)\n",
    "        # print(img_b64_transp)\n",
    "        \n",
    "        reshape_img = get_img_reshape_by_cv2(img_b64_transp)\n",
    "        crop_digit = reshape_img\n",
    "        \n",
    "        \n",
    "        # crop_digit = crop_digit / 225.0\n",
    "        # print(crop_digit[0])\n",
    "        # plt.imshow(crop_digit[0])\n",
    "        # print(crop_digit[0].shape)\n",
    "        \n",
    "        if crop_digit[0] is not None:\n",
    "            crop_img_folder = path_to_cropped + digit\n",
    "            if not os.path.exists(crop_img_folder):\n",
    "                print(\"Generating cropped digit_img folder: \", crop_img_folder)\n",
    "                os.mkdir(crop_img_folder)\n",
    "                crop_img_dirs.append(crop_img_folder)\n",
    "            \n",
    "            crop_file_name = digit + \"_\" + str(count) + \".png\"\n",
    "            crop_file_path = crop_img_folder + \"/\" + crop_file_name\n",
    "            \n",
    "            \n",
    "            cv2.imwrite(crop_file_path, crop_digit[0])\n",
    "            digit_dict[digit].append(crop_file_path)\n",
    "            count+=1\n",
    "print(\"\\nSuccesfully Completed! 😊\")"
   ]
  },
  {
   "cell_type": "code",
   "execution_count": 11,
   "id": "e7758eba-7413-4813-862e-dfb4a4e902a0",
   "metadata": {},
   "outputs": [
    {
     "data": {
      "text/plain": [
       "['./dataset/cropped/0\\\\0_1.png',\n",
       " './dataset/cropped/0\\\\0_10.png',\n",
       " './dataset/cropped/0\\\\0_11.png',\n",
       " './dataset/cropped/0\\\\0_12.png',\n",
       " './dataset/cropped/0\\\\0_13.png']"
      ]
     },
     "execution_count": 11,
     "metadata": {},
     "output_type": "execute_result"
    }
   ],
   "source": [
    "# appending the file path of each of the digit image in the dictinary\n",
    "\n",
    "digit_dict = {}\n",
    "\n",
    "for img_dir in crop_img_dirs:\n",
    "    digit = img_dir.split(\"/\")[-1]\n",
    "    file_list = []\n",
    "    for entry in os.scandir(img_dir):\n",
    "        file_list.append(entry.path)\n",
    "    digit_dict[digit] = file_list\n",
    "\n",
    "digit_dict['0'][:5]"
   ]
  },
  {
   "cell_type": "markdown",
   "id": "80af5e79-9f17-49d3-9410-b4fa62a23d25",
   "metadata": {},
   "source": [
    "<br>\n",
    "\n",
    "## Test, train split"
   ]
  },
  {
   "cell_type": "code",
   "execution_count": 12,
   "id": "67c73341-3491-470a-9313-64357ed86eb5",
   "metadata": {},
   "outputs": [],
   "source": [
    "X, y = [], []\n",
    "\n",
    "for digit, digit_img_path in digit_dict.items():\n",
    "    for training_img in digit_img_path:\n",
    "        img = cv2.imread(training_img)\n",
    "        grey = cv2.cvtColor(img.copy(), cv2.COLOR_BGR2GRAY) # convert to gray\n",
    "        \n",
    "        \n",
    "        if grey is None:\n",
    "            continue\n",
    "            \n",
    "        # grey=grey/225.0\n",
    "        \n",
    "        # img_rshp = img.reshape(3, 28, 28)    # reshape img into 1D\n",
    "        X.append(grey)\n",
    "        y.append(int(digit))"
   ]
  },
  {
   "cell_type": "code",
   "execution_count": 13,
   "id": "eb12b4fe-1853-4905-8265-9ef9acd0b032",
   "metadata": {},
   "outputs": [
    {
     "data": {
      "text/plain": [
       "(1039, (28, 28))"
      ]
     },
     "execution_count": 13,
     "metadata": {},
     "output_type": "execute_result"
    }
   ],
   "source": [
    "len(X), X[0].shape"
   ]
  },
  {
   "cell_type": "code",
   "execution_count": 14,
   "id": "8dae2b7c-a2e6-4a80-bbcc-7205a1f357d0",
   "metadata": {},
   "outputs": [
    {
     "data": {
      "text/plain": [
       "(28, 28)"
      ]
     },
     "execution_count": 14,
     "metadata": {},
     "output_type": "execute_result"
    }
   ],
   "source": [
    "X[0].shape"
   ]
  },
  {
   "cell_type": "code",
   "execution_count": 15,
   "id": "df199732-8620-4e18-aa1f-26eadb2d744c",
   "metadata": {},
   "outputs": [
    {
     "data": {
      "text/plain": [
       "1039"
      ]
     },
     "execution_count": 15,
     "metadata": {},
     "output_type": "execute_result"
    }
   ],
   "source": [
    "len(y)"
   ]
  },
  {
   "cell_type": "code",
   "execution_count": 16,
   "id": "6d16ea79-1991-4f5e-b607-6956280ec635",
   "metadata": {},
   "outputs": [
    {
     "data": {
      "text/plain": [
       "(1039, 28, 28)"
      ]
     },
     "execution_count": 16,
     "metadata": {},
     "output_type": "execute_result"
    }
   ],
   "source": [
    "X = np.array(X).reshape(len(X), 28, 28).astype(float)\n",
    "X.shape"
   ]
  },
  {
   "cell_type": "code",
   "execution_count": 17,
   "id": "2fef57c1-0e53-4f09-9283-41953dfabda1",
   "metadata": {},
   "outputs": [],
   "source": [
    "y = np.array(y)"
   ]
  },
  {
   "cell_type": "markdown",
   "id": "0f54ff04-0c4e-4f4d-8f7e-b7a4cc00a4dd",
   "metadata": {},
   "source": [
    "<br> \n",
    "\n",
    "## MNIST"
   ]
  },
  {
   "cell_type": "code",
   "execution_count": 18,
   "id": "f41c5ca3-b606-4bdb-994f-e9c48792d8d9",
   "metadata": {},
   "outputs": [],
   "source": [
    "# mnist = tf.keras.datasets.mnist"
   ]
  },
  {
   "cell_type": "code",
   "execution_count": 19,
   "id": "b35c3852-1e50-4009-8036-18500682e24a",
   "metadata": {},
   "outputs": [],
   "source": [
    "# (X_train, y_train), (X_test, y_test) = mnist.load_data()"
   ]
  },
  {
   "cell_type": "code",
   "execution_count": 20,
   "id": "1d405f3b-2c78-4d47-ac80-fd2ba4454a3a",
   "metadata": {},
   "outputs": [],
   "source": [
    "# # lets, scale the image in a range of 0-1\n",
    "\n",
    "# X_train = X_train/255.0\n",
    "# X_test = X_test/255.0"
   ]
  },
  {
   "cell_type": "markdown",
   "id": "875795ea-6ad0-4521-966c-dc23b0ba14dc",
   "metadata": {},
   "source": [
    "<br>\n",
    "\n",
    "## Build the model"
   ]
  },
  {
   "cell_type": "code",
   "execution_count": 21,
   "id": "8340ec20-ed7b-415d-82f2-4e1c2789e422",
   "metadata": {},
   "outputs": [],
   "source": [
    "model = keras.Sequential([\n",
    "    tf.keras.layers.Flatten(input_shape=(28, 28)),\n",
    "    \n",
    "    # tf.keras.layers.Dense(190, activation='relu'),\n",
    "    # tf.keras.layers.Dense(100, activation='sigmoid'),\n",
    "    # tf.keras.layers.Dense(50, activation='sigmoid'),\n",
    "    \n",
    "    \n",
    "    tf.keras.layers.Dense(180, activation='relu'),\n",
    "    tf.keras.layers.Dense(170, activation='relu'),\n",
    "    tf.keras.layers.Dense(160, activation='relu'),\n",
    "    tf.keras.layers.Dense(150, activation='relu'),\n",
    "    tf.keras.layers.Dense(140, activation='relu'),\n",
    "    tf.keras.layers.Dense(130, activation='relu'),\n",
    "    tf.keras.layers.Dense(120, activation='relu'),\n",
    "    tf.keras.layers.Dense(110, activation='relu'),\n",
    "    tf.keras.layers.Dense(100, activation='relu'),\n",
    "    \n",
    "    tf.keras.layers.Dense(90, activation='relu'),\n",
    "    tf.keras.layers.Dense(80, activation='relu'),\n",
    "    tf.keras.layers.Dense(70, activation='relu'),\n",
    "    tf.keras.layers.Dense(60, activation='relu'),\n",
    "    tf.keras.layers.Dense(50, activation='relu'),\n",
    "    \n",
    "    \n",
    "    \n",
    "    # tf.keras.layers.Dense(40, activation='relu'),\n",
    "    # tf.keras.layers.Dense(30, activation='relu'),\n",
    "    # tf.keras.layers.Dense(20, activation='relu'),\n",
    "    \n",
    "    \n",
    "    tf.keras.layers.Dense(10, activation=\"sigmoid\")\n",
    "])"
   ]
  },
  {
   "cell_type": "code",
   "execution_count": 22,
   "id": "0b3c360c-a25e-429b-9482-e8fdfebf2ed4",
   "metadata": {},
   "outputs": [],
   "source": [
    "model.compile(optimizer='adam',\n",
    "            loss = 'sparse_categorical_crossentropy',\n",
    "            metrics=['accuracy']\n",
    ")"
   ]
  },
  {
   "cell_type": "code",
   "execution_count": 23,
   "id": "58745aa3-2fb6-4b44-839d-067885463cb6",
   "metadata": {},
   "outputs": [],
   "source": [
    "# from sklearn.model_selection import train_test_split\n",
    "# X_train, X_test, y_train, y_test = train_test_split(X, y, test_size=0.1, random_state=42)"
   ]
  },
  {
   "cell_type": "code",
   "execution_count": 24,
   "id": "e98ba468-997d-495d-a0df-0c7979814798",
   "metadata": {},
   "outputs": [
    {
     "name": "stdout",
     "output_type": "stream",
     "text": [
      "Epoch 1/15\n",
      "33/33 [==============================] - 1s 5ms/step - loss: 1.7847 - accuracy: 0.3754\n",
      "Epoch 2/15\n",
      "33/33 [==============================] - 0s 4ms/step - loss: 0.7226 - accuracy: 0.7642\n",
      "Epoch 3/15\n",
      "33/33 [==============================] - 0s 5ms/step - loss: 0.4487 - accuracy: 0.8489\n",
      "Epoch 4/15\n",
      "33/33 [==============================] - 0s 5ms/step - loss: 0.2439 - accuracy: 0.9365\n",
      "Epoch 5/15\n",
      "33/33 [==============================] - 0s 5ms/step - loss: 0.1562 - accuracy: 0.9596\n",
      "Epoch 6/15\n",
      "33/33 [==============================] - 0s 5ms/step - loss: 0.0786 - accuracy: 0.9808\n",
      "Epoch 7/15\n",
      "33/33 [==============================] - 0s 5ms/step - loss: 0.2456 - accuracy: 0.9577\n",
      "Epoch 8/15\n",
      "33/33 [==============================] - 0s 5ms/step - loss: 0.1559 - accuracy: 0.9548\n",
      "Epoch 9/15\n",
      "33/33 [==============================] - 0s 5ms/step - loss: 0.0609 - accuracy: 0.9836\n",
      "Epoch 10/15\n",
      "33/33 [==============================] - 0s 5ms/step - loss: 0.1390 - accuracy: 0.9711\n",
      "Epoch 11/15\n",
      "33/33 [==============================] - 0s 5ms/step - loss: 0.0507 - accuracy: 0.9865\n",
      "Epoch 12/15\n",
      "33/33 [==============================] - 0s 5ms/step - loss: 0.0151 - accuracy: 0.9962\n",
      "Epoch 13/15\n",
      "33/33 [==============================] - 0s 5ms/step - loss: 0.0131 - accuracy: 0.9952\n",
      "Epoch 14/15\n",
      "33/33 [==============================] - 0s 6ms/step - loss: 0.0577 - accuracy: 0.9846\n",
      "Epoch 15/15\n",
      "33/33 [==============================] - 0s 5ms/step - loss: 0.0377 - accuracy: 0.9942\n"
     ]
    },
    {
     "data": {
      "text/plain": [
       "<keras.callbacks.History at 0x259a6cebd90>"
      ]
     },
     "execution_count": 24,
     "metadata": {},
     "output_type": "execute_result"
    }
   ],
   "source": [
    "model.fit(X, y, epochs=15)"
   ]
  },
  {
   "cell_type": "code",
   "execution_count": 25,
   "id": "e68a73f8-24f9-4e7a-a31e-480272a1d22d",
   "metadata": {},
   "outputs": [
    {
     "name": "stdout",
     "output_type": "stream",
     "text": [
      "33/33 [==============================] - 0s 2ms/step - loss: 0.0215 - accuracy: 0.9962\n"
     ]
    },
    {
     "data": {
      "text/plain": [
       "[0.02148427627980709, 0.9961501359939575]"
      ]
     },
     "execution_count": 25,
     "metadata": {},
     "output_type": "execute_result"
    }
   ],
   "source": [
    "model.evaluate(X, y)"
   ]
  },
  {
   "cell_type": "code",
   "execution_count": 26,
   "id": "047cb7d5-ecec-4e84-844e-e297fb8c6d6e",
   "metadata": {},
   "outputs": [],
   "source": [
    "# plt.figure(figsize=(15,15))\n",
    "\n",
    "# for i in range(20):\n",
    "#     plt.subplot(5, 8, i+1)\n",
    "#     plt.imshow(X_train[i])\n",
    "#     plt.gray()\n",
    "#     plt.xticks([])\n",
    "#     plt.yticks([])\n",
    "#     # plt.axis('off')\n",
    "#     plt.xlabel(y_train[i], color='#fff', fontsize=20)"
   ]
  },
  {
   "cell_type": "markdown",
   "id": "8b4ae1b0-8399-4aa5-bb4e-5af36662c2c1",
   "metadata": {},
   "source": [
    "<br>\n",
    "\n",
    "## Lets, now check how well our model performs by giving an actuall image as input "
   ]
  },
  {
   "cell_type": "code",
   "execution_count": 110,
   "id": "c3d0d6d9-4a1f-4f89-b35a-dcf71d8404a6",
   "metadata": {},
   "outputs": [
    {
     "data": {
      "text/plain": [
       "(503, 503, 3)"
      ]
     },
     "execution_count": 110,
     "metadata": {},
     "output_type": "execute_result"
    }
   ],
   "source": [
    "n_img = get_cv2_image_from_base64_string(load_base64_img(), None)\n",
    "# n_img = get_cv2_image\"_from_base64_string(None, r'.\\dataset\\cropped\\2\\2_2.png')\n",
    "\n",
    "n_img.shape ## returns x, y, rbg"
   ]
  },
  {
   "cell_type": "code",
   "execution_count": 111,
   "id": "84361897-1ae9-42e3-b61d-720c86762d09",
   "metadata": {},
   "outputs": [
    {
     "data": {
      "text/plain": [
       "<matplotlib.image.AxesImage at 0x259a9dcb4f0>"
      ]
     },
     "execution_count": 111,
     "metadata": {},
     "output_type": "execute_result"
    },
    {
     "data": {
      "image/png": "[encoded data removed]",
      "text/plain": [
       "<Figure size 432x288 with 1 Axes>"
      ]
     },
     "metadata": {
      "needs_background": "light"
     },
     "output_type": "display_data"
    }
   ],
   "source": [
    "plt.imshow(n_img)"
   ]
  },
  {
   "cell_type": "code",
   "execution_count": 112,
   "id": "279c23e7-8b4d-4656-a41d-2d1b2ef6d8af",
   "metadata": {},
   "outputs": [
    {
     "data": {
      "text/plain": [
       "(1, 28, 28)"
      ]
     },
     "execution_count": 112,
     "metadata": {},
     "output_type": "execute_result"
    }
   ],
   "source": [
    "crop_img = get_img_reshape_by_cv2(n_img)\n",
    "crop_img.shape"
   ]
  },
  {
   "cell_type": "code",
   "execution_count": 113,
   "id": "1360c4a2-bf7e-4312-86d2-d44b54420245",
   "metadata": {},
   "outputs": [
    {
     "data": {
      "text/plain": [
       "<matplotlib.image.AxesImage at 0x259a9ca9b10>"
      ]
     },
     "execution_count": 113,
     "metadata": {},
     "output_type": "execute_result"
    },
    {
     "data": {
      "image/png": "[encoded data removed]",
      "text/plain": [
       "<Figure size 432x288 with 1 Axes>"
      ]
     },
     "metadata": {
      "needs_background": "light"
     },
     "output_type": "display_data"
    }
   ],
   "source": [
    "plt.gray()\n",
    "plt.imshow(crop_img[0])"
   ]
  },
  {
   "cell_type": "code",
   "execution_count": 114,
   "id": "bba6345c-7066-4eb5-b6c7-d494397b7f2e",
   "metadata": {},
   "outputs": [
    {
     "name": "stdout",
     "output_type": "stream",
     "text": [
      "1/1 [==============================] - 0s 26ms/step\n"
     ]
    }
   ],
   "source": [
    "pred = model.predict(crop_img)"
   ]
  },
  {
   "cell_type": "code",
   "execution_count": 115,
   "id": "afec7a20-913a-48a8-abe5-0be3309311b3",
   "metadata": {},
   "outputs": [
    {
     "data": {
      "text/plain": [
       "3"
      ]
     },
     "execution_count": 115,
     "metadata": {},
     "output_type": "execute_result"
    }
   ],
   "source": [
    "np.argmax(pred)"
   ]
  },
  {
   "cell_type": "code",
   "execution_count": 116,
   "id": "b03b0a80-b7d8-417e-b4c0-30e2cfb5e03d",
   "metadata": {},
   "outputs": [
    {
     "name": "stdout",
     "output_type": "stream",
     "text": [
      "1/1 [==============================] - 0s 20ms/step\n"
     ]
    },
    {
     "data": {
      "text/plain": [
       "[3]"
      ]
     },
     "execution_count": 116,
     "metadata": {},
     "output_type": "execute_result"
    }
   ],
   "source": [
    "num_pred = []\n",
    "\n",
    "\n",
    "for i in range(len(crop_img)):\n",
    "    \n",
    "    if len(crop_img) > 1:\n",
    "        pred = model.predict(crop_img[i])\n",
    "    else:\n",
    "        pred = model.predict(crop_img)\n",
    "        \n",
    "    num_pred.append(np.argmax(pred))\n",
    "num_pred"
   ]
  },
  {
   "cell_type": "code",
   "execution_count": 117,
   "id": "222ca869-affa-421d-8661-817da4a6a4ac",
   "metadata": {},
   "outputs": [
    {
     "data": {
      "text/plain": [
       "([3], 1)"
      ]
     },
     "execution_count": 117,
     "metadata": {},
     "output_type": "execute_result"
    }
   ],
   "source": [
    "num_pred, len(num_pred)"
   ]
  },
  {
   "cell_type": "markdown",
   "id": "00a740e4-102e-468c-a736-10f11bbeff66",
   "metadata": {},
   "source": [
    "<br>\n",
    "\n",
    "## Save the trained model"
   ]
  },
  {
   "cell_type": "code",
   "execution_count": 121,
   "id": "4a66f7ab-8fc0-4bf6-8247-bd51e2003148",
   "metadata": {},
   "outputs": [],
   "source": [
    "model.save(\"saved_model.h5\")"
   ]
  }
 ],
 "metadata": {
  "kernelspec": {
   "display_name": "Python 3 (ipykernel)",
   "language": "python",
   "name": "python3"
  },
  "language_info": {
   "codemirror_mode": {
    "name": "ipython",
    "version": 3
   },
   "file_extension": ".py",
   "mimetype": "text/x-python",
   "name": "python",
   "nbconvert_exporter": "python",
   "pygments_lexer": "ipython3",
   "version": "3.10.4"
  },
  "widgets": {
   "application/vnd.jupyter.widget-state+json": {
    "state": {},
    "version_major": 2,
    "version_minor": 0
   }
  }
 },
 "nbformat": 4,
 "nbformat_minor": 5
}
